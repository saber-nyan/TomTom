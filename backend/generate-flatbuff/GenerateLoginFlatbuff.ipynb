{
 "cells": [
  {
   "cell_type": "code",
   "execution_count": 1,
   "metadata": {},
   "outputs": [],
   "source": [
    "import flatbuffers\n",
    "import Message\n",
    "import MessageType\n",
    "import Login"
   ]
  },
  {
   "cell_type": "code",
   "execution_count": 2,
   "metadata": {},
   "outputs": [],
   "source": [
    "b = flatbuffers.Builder(0)"
   ]
  },
  {
   "cell_type": "code",
   "execution_count": 3,
   "metadata": {},
   "outputs": [],
   "source": [
    "username = b.CreateString(\"saber-nyan\")\n",
    "password = b.CreateString(\"some_very_secret_password\")"
   ]
  },
  {
   "cell_type": "code",
   "execution_count": 4,
   "metadata": {},
   "outputs": [],
   "source": [
    "Login.LoginStart(b)\n",
    "Login.LoginAddUsername(b, username)\n",
    "Login.LoginAddPassword(b, password)\n",
    "reg_table = Login.LoginEnd(b)"
   ]
  },
  {
   "cell_type": "code",
   "execution_count": 5,
   "metadata": {},
   "outputs": [],
   "source": [
    "Message.MessageStart(b)\n",
    "Message.MessageAddMsgType(b, MessageType.MessageType().Login)\n",
    "Message.MessageAddMsg(b, reg_table)\n",
    "msg = Message.MessageEnd(b)"
   ]
  },
  {
   "cell_type": "code",
   "execution_count": 6,
   "metadata": {},
   "outputs": [],
   "source": [
    "b.Finish(msg)\n",
    "with open('login.bin', 'wb') as f:\n",
    "    f.write(b.Output())"
   ]
  }
 ],
 "metadata": {
  "kernelspec": {
   "display_name": "Python 3",
   "language": "python",
   "name": "python3"
  },
  "language_info": {
   "codemirror_mode": {
    "name": "ipython",
    "version": 3
   },
   "file_extension": ".py",
   "mimetype": "text/x-python",
   "name": "python",
   "nbconvert_exporter": "python",
   "pygments_lexer": "ipython3",
   "version": "3.7.4"
  }
 },
 "nbformat": 4,
 "nbformat_minor": 2
}
