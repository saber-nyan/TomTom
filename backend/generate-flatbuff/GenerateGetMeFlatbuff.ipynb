{
 "cells": [
  {
   "cell_type": "code",
   "execution_count": 1,
   "metadata": {},
   "outputs": [],
   "source": [
    "import flatbuffers\n",
    "import Message\n",
    "import MessageType\n",
    "import GetMe"
   ]
  },
  {
   "cell_type": "code",
   "execution_count": 2,
   "metadata": {},
   "outputs": [],
   "source": [
    "b = flatbuffers.Builder(0)"
   ]
  },
  {
   "cell_type": "code",
   "execution_count": 3,
   "metadata": {},
   "outputs": [],
   "source": [
    "token = b.CreateString(\"YBnZIqTjvFIdh5EE1ZlrOpWD/aFCLIkf0ZYCrg5vY74=\\n\")"
   ]
  },
  {
   "cell_type": "code",
   "execution_count": 4,
   "metadata": {},
   "outputs": [],
   "source": [
    "GetMe.GetMeStart(b)\n",
    "GetMe.GetMeAddToken(b, token)\n",
    "reg_table = GetMe.GetMeEnd(b)"
   ]
  },
  {
   "cell_type": "code",
   "execution_count": 5,
   "metadata": {},
   "outputs": [],
   "source": [
    "Message.MessageStart(b)\n",
    "Message.MessageAddMsgType(b, MessageType.MessageType().GetMe)\n",
    "Message.MessageAddMsg(b, reg_table)\n",
    "msg = Message.MessageEnd(b)"
   ]
  },
  {
   "cell_type": "code",
   "execution_count": 6,
   "metadata": {},
   "outputs": [],
   "source": [
    "b.Finish(msg)\n",
    "with open('get_me.bin', 'wb') as f:\n",
    "    f.write(b.Output())"
   ]
  }
 ],
 "metadata": {
  "kernelspec": {
   "display_name": "Python 3",
   "language": "python",
   "name": "python3"
  },
  "language_info": {
   "codemirror_mode": {
    "name": "ipython",
    "version": 3
   },
   "file_extension": ".py",
   "mimetype": "text/x-python",
   "name": "python",
   "nbconvert_exporter": "python",
   "pygments_lexer": "ipython3",
   "version": "3.7.4"
  }
 },
 "nbformat": 4,
 "nbformat_minor": 2
}
