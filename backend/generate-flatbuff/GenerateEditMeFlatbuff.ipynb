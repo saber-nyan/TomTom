{
 "cells": [
  {
   "cell_type": "code",
   "execution_count": 1,
   "metadata": {},
   "outputs": [],
   "source": [
    "import flatbuffers\n",
    "import Message\n",
    "import MessageType\n",
    "import EditMe"
   ]
  },
  {
   "cell_type": "code",
   "execution_count": 2,
   "metadata": {},
   "outputs": [],
   "source": [
    "b = flatbuffers.Builder(0)"
   ]
  },
  {
   "cell_type": "code",
   "execution_count": 3,
   "metadata": {},
   "outputs": [
    {
     "data": {
      "text/plain": [
       "64"
      ]
     },
     "execution_count": 3,
     "metadata": {},
     "output_type": "execute_result"
    }
   ],
   "source": [
    "token = b.CreateString(\"ZKPjDo00LBB+EKhJKZjDhz0voG45AikpnP7V30rPtKw=\")\n",
    "username = b.CreateString(\"alex228\")"
   ]
  },
  {
   "cell_type": "code",
   "execution_count": 4,
   "metadata": {},
   "outputs": [],
   "source": [
    "EditMe.EditMeStart(b)\n",
    "EditMe.EditMeAddUsername(b, username)\n",
    "EditMe.EditMeAddToken(b, token)\n",
    "EditMe.EditMeAddAdmin(b, False)\n",
    "reg_table = EditMe.EditMeEnd(b)"
   ]
  },
  {
   "cell_type": "code",
   "execution_count": 5,
   "metadata": {},
   "outputs": [],
   "source": [
    "Message.MessageStart(b)\n",
    "Message.MessageAddMsgType(b, MessageType.MessageType().EditMe)\n",
    "Message.MessageAddMsg(b, reg_table)\n",
    "msg = Message.MessageEnd(b)"
   ]
  },
  {
   "cell_type": "code",
   "execution_count": 6,
   "metadata": {},
   "outputs": [],
   "source": [
    "b.Finish(msg)\n",
    "with open('edit_me.bin', 'wb') as f:\n",
    "    f.write(b.Output())"
   ]
  }
 ],
 "metadata": {
  "kernelspec": {
   "display_name": "Python 3",
   "language": "python",
   "name": "python3"
  },
  "language_info": {
   "codemirror_mode": {
    "name": "ipython",
    "version": 3
   },
   "file_extension": ".py",
   "mimetype": "text/x-python",
   "name": "python",
   "nbconvert_exporter": "python",
   "pygments_lexer": "ipython3",
   "version": "3.7.4"
  }
 },
 "nbformat": 4,
 "nbformat_minor": 2
}
