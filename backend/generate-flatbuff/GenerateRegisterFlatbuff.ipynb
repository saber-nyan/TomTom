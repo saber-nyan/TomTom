{
 "cells": [
  {
   "cell_type": "code",
   "execution_count": 1,
   "metadata": {},
   "outputs": [],
   "source": [
    "import flatbuffers\n",
    "import Message\n",
    "import MessageType\n",
    "import Register"
   ]
  },
  {
   "cell_type": "code",
   "execution_count": 2,
   "metadata": {},
   "outputs": [],
   "source": [
    "b = flatbuffers.Builder(0)"
   ]
  },
  {
   "cell_type": "code",
   "execution_count": 3,
   "metadata": {},
   "outputs": [],
   "source": [
    "username = b.CreateString(\"saber-nyan\")\n",
    "password = b.CreateString(\"some_very_secret_password\")\n",
    "first_name = b.CreateString(\"Валерий\")\n",
    "last_name = b.CreateString(\"Жмышенко\")"
   ]
  },
  {
   "cell_type": "code",
   "execution_count": 4,
   "metadata": {},
   "outputs": [],
   "source": [
    "Register.RegisterStart(b)\n",
    "Register.RegisterAddUsername(b, username)\n",
    "Register.RegisterAddPassword(b, password)\n",
    "Register.RegisterAddFirstName(b, first_name)\n",
    "Register.RegisterAddLastName(b, last_name)\n",
    "reg_table = Register.RegisterEnd(b)"
   ]
  },
  {
   "cell_type": "code",
   "execution_count": 5,
   "metadata": {},
   "outputs": [],
   "source": [
    "Message.MessageStart(b)\n",
    "Message.MessageAddMsgType(b, MessageType.MessageType().Register)\n",
    "Message.MessageAddMsg(b, reg_table)\n",
    "msg = Message.MessageEnd(b)"
   ]
  },
  {
   "cell_type": "code",
   "execution_count": 6,
   "metadata": {},
   "outputs": [],
   "source": [
    "b.Finish(msg)\n",
    "with open('register.bin', 'wb') as f:\n",
    "    f.write(b.Output())"
   ]
  }
 ],
 "metadata": {
  "kernelspec": {
   "display_name": "Python 3",
   "language": "python",
   "name": "python3"
  },
  "language_info": {
   "codemirror_mode": {
    "name": "ipython",
    "version": 3
   },
   "file_extension": ".py",
   "mimetype": "text/x-python",
   "name": "python",
   "nbconvert_exporter": "python",
   "pygments_lexer": "ipython3",
   "version": "3.7.4"
  }
 },
 "nbformat": 4,
 "nbformat_minor": 2
}
