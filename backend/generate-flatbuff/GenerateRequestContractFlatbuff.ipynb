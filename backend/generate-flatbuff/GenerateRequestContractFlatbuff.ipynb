{
 "cells": [
  {
   "cell_type": "code",
   "execution_count": 1,
   "metadata": {},
   "outputs": [],
   "source": [
    "import flatbuffers\n",
    "import Message\n",
    "import MessageType\n",
    "import RequestContract"
   ]
  },
  {
   "cell_type": "code",
   "execution_count": 2,
   "metadata": {},
   "outputs": [],
   "source": [
    "b = flatbuffers.Builder(0)\n",
    "with open('/home/seiba/Pictures/ava_main.png', 'rb') as f:\n",
    "    pic_bytes = f.read()"
   ]
  },
  {
   "cell_type": "code",
   "execution_count": 3,
   "metadata": {},
   "outputs": [],
   "source": [
    "token = b.CreateString(\"jnZ02FmHYKOv1ZYu+3soNO9loZGOIcxhp1g6x71cFpg=\")\n",
    "name = b.CreateString(\"Футболки (размер XXL)\")\n",
    "attach = b.CreateByteVector(pic_bytes)"
   ]
  },
  {
   "cell_type": "code",
   "execution_count": 4,
   "metadata": {},
   "outputs": [],
   "source": [
    "RequestContract.RequestContractStart(b)\n",
    "RequestContract.RequestContractAddToken(b, token)\n",
    "RequestContract.RequestContractAddName(b, name)\n",
    "RequestContract.RequestContractAddPrice(b, 228.1337)\n",
    "RequestContract.RequestContractAddAttachment(b, attach)\n",
    "reg_table = RequestContract.RequestContractEnd(b)"
   ]
  },
  {
   "cell_type": "code",
   "execution_count": 5,
   "metadata": {},
   "outputs": [],
   "source": [
    "Message.MessageStart(b)\n",
    "Message.MessageAddMsgType(b, MessageType.MessageType().RequestContract)\n",
    "Message.MessageAddMsg(b, reg_table)\n",
    "msg = Message.MessageEnd(b)"
   ]
  },
  {
   "cell_type": "code",
   "execution_count": 6,
   "metadata": {},
   "outputs": [],
   "source": [
    "b.Finish(msg)\n",
    "with open('request_contract.bin', 'wb') as f:\n",
    "    f.write(b.Output())"
   ]
  }
 ],
 "metadata": {
  "kernelspec": {
   "display_name": "Python 3",
   "language": "python",
   "name": "python3"
  },
  "language_info": {
   "codemirror_mode": {
    "name": "ipython",
    "version": 3
   },
   "file_extension": ".py",
   "mimetype": "text/x-python",
   "name": "python",
   "nbconvert_exporter": "python",
   "pygments_lexer": "ipython3",
   "version": "3.7.4"
  }
 },
 "nbformat": 4,
 "nbformat_minor": 2
}
