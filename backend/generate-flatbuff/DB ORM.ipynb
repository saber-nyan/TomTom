{
 "cells": [
  {
   "cell_type": "code",
   "execution_count": 1,
   "metadata": {},
   "outputs": [],
   "source": [
    "from pony.orm import *\n",
    "set_sql_debug(True)"
   ]
  },
  {
   "cell_type": "code",
   "execution_count": 2,
   "metadata": {},
   "outputs": [
    {
     "name": "stdout",
     "output_type": "stream",
     "text": [
      "GET NEW CONNECTION\n",
      "RELEASE CONNECTION\n",
      "GET CONNECTION FROM THE LOCAL POOL\n",
      "SWITCH TO AUTOCOMMIT MODE\n",
      "SELECT \"contracts\".\"id\", \"contracts\".\"name\", \"contracts\".\"description\", \"contracts\".\"price\", \"contracts\".\"attachment\", \"contracts\".\"status\", \"contracts\".\"user\", \"contracts\".\"created_at\"\n",
      "FROM \"contracts\" \"contracts\"\n",
      "WHERE 0 = 1\n",
      "\n",
      "SELECT \"users\".\"id\", \"users\".\"username\", \"users\".\"password\", \"users\".\"firstname\", \"users\".\"lastname\", \"users\".\"admin\", \"users\".\"token\"\n",
      "FROM \"users\" \"users\"\n",
      "WHERE 0 = 1\n",
      "\n",
      "RELEASE CONNECTION\n"
     ]
    }
   ],
   "source": [
    "db = Database()\n",
    "\n",
    "\n",
    "class User(db.Entity):\n",
    "    _table_ = 'users'\n",
    "    id = PrimaryKey(int, size=64, auto=True)\n",
    "    username = Required(str, 64, unique=True)\n",
    "    password = Required(str, 128)\n",
    "    firstName = Required(str, 32)\n",
    "    lastName = Required(str, 32)\n",
    "    admin = Required(bool, sql_type='FALSE')\n",
    "    contracts = Set('Contract')\n",
    "    token = Required(str, 128)\n",
    "\n",
    "\n",
    "class Contract(db.Entity):\n",
    "    _table_ = 'contracts'\n",
    "    id = PrimaryKey(int, size=64, auto=True)\n",
    "    name = Required(str, 64)\n",
    "    description = Optional(str, nullable=True)\n",
    "    price = Required(float)\n",
    "    attachment = Optional(buffer, sql_type=\"BYTEA[]\")\n",
    "    status = Required(int, size=8, sql_default='1')\n",
    "    user = Required(User)\n",
    "    created_at = Required(int, size=64)\n",
    "\n",
    "db.bind(provider='postgres', user='tomtom', password='program_for_food_help', host='127.0.0.1', database='tomtom')\n",
    "\n",
    "db.generate_mapping()"
   ]
  },
  {
   "cell_type": "code",
   "execution_count": 3,
   "metadata": {},
   "outputs": [
    {
     "name": "stdout",
     "output_type": "stream",
     "text": [
      "GET CONNECTION FROM THE LOCAL POOL\n",
      "SWITCH TO AUTOCOMMIT MODE\n",
      "SELECT \"p\".\"id\", \"p\".\"username\", \"p\".\"password\", \"p\".\"firstname\", \"p\".\"lastname\", \"p\".\"admin\", \"p\".\"token\"\n",
      "FROM \"users\" \"p\"\n",
      "WHERE \"p\".\"token\" = 'jnZ02FmHYKOv1ZYu+3soNO9loZGOIcxhp1g6x71cFpg='\n",
      "\n"
     ]
    },
    {
     "data": {
      "text/plain": [
       "User[1]"
      ]
     },
     "execution_count": 3,
     "metadata": {},
     "output_type": "execute_result"
    }
   ],
   "source": [
    "a = list(select(p for p in User if p.token == 'jnZ02FmHYKOv1ZYu+3soNO9loZGOIcxhp1g6x71cFpg='))[0]\n",
    "a"
   ]
  },
  {
   "cell_type": "code",
   "execution_count": 4,
   "metadata": {},
   "outputs": [
    {
     "name": "stdout",
     "output_type": "stream",
     "text": [
      "SWITCH FROM AUTOCOMMIT TO TRANSACTION MODE\n",
      "INSERT INTO \"contracts\" (\"name\", \"price\", \"status\", \"user\", \"created_at\") VALUES (%(p1)s, %(p2)s, %(p3)s, %(p4)s, %(p5)s) RETURNING \"id\"\n",
      "{'p1':'Закупка дилдо', 'p2':228.1337, 'p3':1, 'p4':1, 'p5':1572208170}\n",
      "\n",
      "COMMIT\n"
     ]
    }
   ],
   "source": [
    "c = Contract(\n",
    "    name='Закупка дилдо',\n",
    "    price=228.1337,\n",
    "    status=1,\n",
    "    user=a,\n",
    "    created_at=1572208170\n",
    ")\n",
    "commit()"
   ]
  }
 ],
 "metadata": {
  "kernelspec": {
   "display_name": "Python 3",
   "language": "python",
   "name": "python3"
  },
  "language_info": {
   "codemirror_mode": {
    "name": "ipython",
    "version": 3
   },
   "file_extension": ".py",
   "mimetype": "text/x-python",
   "name": "python",
   "nbconvert_exporter": "python",
   "pygments_lexer": "ipython3",
   "version": "3.7.4"
  }
 },
 "nbformat": 4,
 "nbformat_minor": 2
}
